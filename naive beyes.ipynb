{
 "cells": [
  {
   "cell_type": "code",
   "execution_count": 2,
   "metadata": {},
   "outputs": [
    {
     "data": {
      "text/plain": [
       "'\"resultado_esperado = saida_test\\n\\nBernNB = BernoulliNB(binarize = True)\\nBernNB.fit(entrada_train,saida_train)\\npredito_bern = BernNB.predict(entrada_test)\\n\\nMultiNB = MultinomialNB()\\nMultiNB.fit(entrada_train,saida_train)\\npredito_mult = MultiNB.predict(entrada_test)\\n\\nGausNB = GaussianNB()\\nGausNB.fit(entrada_train,saida_train)\\npredito_gaus = GausNB.predict(entrada_test)\\n\\n\\nbernoulli = accuracy_score(resultado_esperado,predito_bern)\\nmultinomial = accuracy_score(resultado_esperado,predito_mult)\\ngaussian = accuracy_score(resultado_esperado,predito_gaus)\\n\\nprint(\\'Acuracia Bernoulli: \\', bernoulli)\\nprint(\\'Acuracia Multinomial: \\', multinomial)\\nprint(\\'Acuracia Gaussian: \\', gaussian)'"
      ]
     },
     "execution_count": 2,
     "metadata": {},
     "output_type": "execute_result"
    }
   ],
   "source": [
    "\"\"\"\"resultado_esperado = saida_test\n",
    "\n",
    "BernNB = BernoulliNB(binarize = True)\n",
    "BernNB.fit(entrada_train,saida_train)\n",
    "predito_bern = BernNB.predict(entrada_test)\n",
    "\n",
    "MultiNB = MultinomialNB()\n",
    "MultiNB.fit(entrada_train,saida_train)\n",
    "predito_mult = MultiNB.predict(entrada_test)\n",
    "\n",
    "GausNB = GaussianNB()\n",
    "GausNB.fit(entrada_train,saida_train)\n",
    "predito_gaus = GausNB.predict(entrada_test)\n",
    "\n",
    "\n",
    "bernoulli = accuracy_score(resultado_esperado,predito_bern)\n",
    "multinomial = accuracy_score(resultado_esperado,predito_mult)\n",
    "gaussian = accuracy_score(resultado_esperado,predito_gaus)\n",
    "\n",
    "print('Acuracia Bernoulli: ', bernoulli)\n",
    "print('Acuracia Multinomial: ', multinomial)\n",
    "print('Acuracia Gaussian: ', gaussian)\"\"\"\"\""
   ]
  },
  {
   "cell_type": "code",
   "execution_count": null,
   "metadata": {},
   "outputs": [],
   "source": []
  }
 ],
 "metadata": {
  "kernelspec": {
   "display_name": "Python 3",
   "language": "python",
   "name": "python3"
  },
  "language_info": {
   "codemirror_mode": {
    "name": "ipython",
    "version": 3
   },
   "file_extension": ".py",
   "mimetype": "text/x-python",
   "name": "python",
   "nbconvert_exporter": "python",
   "pygments_lexer": "ipython3",
   "version": "3.7.3"
  }
 },
 "nbformat": 4,
 "nbformat_minor": 2
}
