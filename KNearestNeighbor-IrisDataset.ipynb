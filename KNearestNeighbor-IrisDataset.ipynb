{
 "cells": [
  {
   "cell_type": "markdown",
   "metadata": {},
   "source": [
    "# Classificação do Iris Dataset com K Nearest Neighbor"
   ]
  },
  {
   "cell_type": "code",
   "execution_count": 7,
   "metadata": {},
   "outputs": [],
   "source": [
    "#importando bibliotecas\n",
    "import pandas as pd\n",
    "import numpy as np\n",
    "import matplotlib.pyplot as plt\n",
    "import seaborn as sns\n",
    "import itertools\n",
    "from sklearn.model_selection import train_test_split\n",
    "from sklearn.metrics import accuracy_score,confusion_matrix\n",
    "from sklearn.neighbors import KNeighborsClassifier"
   ]
  },
  {
   "cell_type": "markdown",
   "metadata": {},
   "source": [
    "##### Definindo funções de auxilio"
   ]
  },
  {
   "cell_type": "code",
   "execution_count": 8,
   "metadata": {},
   "outputs": [],
   "source": [
    "#Definindo função para plotar matriz de confusão\n",
    "def plot_cmatrix(x):\n",
    "    cmatriz = x\n",
    "    cmap=plt.cm.BuPu\n",
    "    normalize = False\n",
    "    classes =  [\"setosa\",\"versicolor\",\"virginica\"]\n",
    "    plt.imshow(cmatriz, interpolation='nearest', cmap=cmap)\n",
    "    plt.title('Matriz de confusao')\n",
    "    plt.colorbar()\n",
    "    tick_marks = np.arange(len(classes))\n",
    "    plt.xticks(tick_marks, classes, rotation=45)\n",
    "    plt.yticks(tick_marks, classes)\n",
    "    \n",
    "    fmt = '.2f' if normalize else 'd'\n",
    "    thresh = cmatriz.max() / 2.\n",
    "    for i, j in itertools.product(range(cmatriz.shape[0]), range(cmatriz.shape[1])):\n",
    "        plt.text(j, i, format(cmatriz[i, j], fmt))\n",
    "\n",
    "\n",
    "    plt.tight_layout()\n",
    "    plt.ylabel('Verdadeiro')\n",
    "    plt.xlabel('Previsto')\n",
    "    plt.show()\n",
    "    \n",
    "#Definindo função para atribbuir uma nova coluna que faz referencia a coluna 'Species' \n",
    "#(seŕa usado para auxiliar a função plot_scatter())\n",
    "\n",
    "def reference(x):\n",
    "    result = []\n",
    "    \n",
    "    for i in range(len(x)):\n",
    "        if x[i] == 'Iris-setosa':\n",
    "            ref = 0\n",
    "        elif x[i] == 'Iris-virginica':\n",
    "            ref = 1\n",
    "        else:\n",
    "            ref = 2\n",
    "        result.append(ref)\n",
    "        \n",
    "    return result\n",
    "\n",
    "#Definindo função para plotar grafico de dispersão\n",
    "def plot_scatter(x,y,r):\n",
    "    ref = reference(r)\n",
    "    plt.scatter(x,y,sizes = 15*x,c=ref,cmap='brg', alpha=0.5)\n",
    "plt.show()"
   ]
  },
  {
   "cell_type": "markdown",
   "metadata": {},
   "source": [
    "## Conhecendo a base dados\n",
    "\n",
    "Fonte do Dataset: <a href=\"https://www.kaggle.com/uciml/iris/downloads/iris-species.zip/2\" margin-left='5'>Iris-Species</a>\n",
    "\n",
    "O **iris Dataset** é um clássico do estudo de Ciencia de Dados e Machine Learning. \n",
    "Nesse estudo de caso o objetivo é, através da base de dados, fazer a **classificação** da Flor iris (ou Flor de lis) que possue variações. O tipo da flor depende da largura e altura de suas pétalas e sépalas.\n",
    "\n",
    "\n",
    "<img width=\"450px\" src=\"assets/imgs/iris-machinelearning.png\"/>\n",
    "\n",
    "<a href=\"https://www.datacamp.com/community/tutorials/machine-learning-in-r\" margin-left='5%'>Fonte da imagem</a>"
   ]
  },
  {
   "cell_type": "code",
   "execution_count": 9,
   "metadata": {},
   "outputs": [
    {
     "data": {
      "text/html": [
       "<div>\n",
       "<style scoped>\n",
       "    .dataframe tbody tr th:only-of-type {\n",
       "        vertical-align: middle;\n",
       "    }\n",
       "\n",
       "    .dataframe tbody tr th {\n",
       "        vertical-align: top;\n",
       "    }\n",
       "\n",
       "    .dataframe thead th {\n",
       "        text-align: right;\n",
       "    }\n",
       "</style>\n",
       "<table border=\"1\" class=\"dataframe\">\n",
       "  <thead>\n",
       "    <tr style=\"text-align: right;\">\n",
       "      <th></th>\n",
       "      <th>Id</th>\n",
       "      <th>SepalLengthCm</th>\n",
       "      <th>SepalWidthCm</th>\n",
       "      <th>PetalLengthCm</th>\n",
       "      <th>PetalWidthCm</th>\n",
       "      <th>Species</th>\n",
       "    </tr>\n",
       "  </thead>\n",
       "  <tbody>\n",
       "    <tr>\n",
       "      <th>0</th>\n",
       "      <td>1</td>\n",
       "      <td>5.1</td>\n",
       "      <td>3.5</td>\n",
       "      <td>1.4</td>\n",
       "      <td>0.2</td>\n",
       "      <td>Iris-setosa</td>\n",
       "    </tr>\n",
       "    <tr>\n",
       "      <th>1</th>\n",
       "      <td>2</td>\n",
       "      <td>4.9</td>\n",
       "      <td>3.0</td>\n",
       "      <td>1.4</td>\n",
       "      <td>0.2</td>\n",
       "      <td>Iris-setosa</td>\n",
       "    </tr>\n",
       "    <tr>\n",
       "      <th>2</th>\n",
       "      <td>3</td>\n",
       "      <td>4.7</td>\n",
       "      <td>3.2</td>\n",
       "      <td>1.3</td>\n",
       "      <td>0.2</td>\n",
       "      <td>Iris-setosa</td>\n",
       "    </tr>\n",
       "    <tr>\n",
       "      <th>3</th>\n",
       "      <td>4</td>\n",
       "      <td>4.6</td>\n",
       "      <td>3.1</td>\n",
       "      <td>1.5</td>\n",
       "      <td>0.2</td>\n",
       "      <td>Iris-setosa</td>\n",
       "    </tr>\n",
       "    <tr>\n",
       "      <th>4</th>\n",
       "      <td>5</td>\n",
       "      <td>5.0</td>\n",
       "      <td>3.6</td>\n",
       "      <td>1.4</td>\n",
       "      <td>0.2</td>\n",
       "      <td>Iris-setosa</td>\n",
       "    </tr>\n",
       "  </tbody>\n",
       "</table>\n",
       "</div>"
      ],
      "text/plain": [
       "   Id  SepalLengthCm  SepalWidthCm  PetalLengthCm  PetalWidthCm      Species\n",
       "0   1            5.1           3.5            1.4           0.2  Iris-setosa\n",
       "1   2            4.9           3.0            1.4           0.2  Iris-setosa\n",
       "2   3            4.7           3.2            1.3           0.2  Iris-setosa\n",
       "3   4            4.6           3.1            1.5           0.2  Iris-setosa\n",
       "4   5            5.0           3.6            1.4           0.2  Iris-setosa"
      ]
     },
     "execution_count": 9,
     "metadata": {},
     "output_type": "execute_result"
    }
   ],
   "source": [
    "#recebendo dataset\n",
    "data = pd.read_csv('assets/dataset/Iris.csv')\n",
    "#exibindo as primeiras linhas do dataset\n",
    "data.head()"
   ]
  },
  {
   "cell_type": "markdown",
   "metadata": {},
   "source": [
    "**Dados**\n",
    "\n",
    "* SepalLengthCm: comprimento da sépala, numérico\n",
    "* SepalWidthCm: largura da sépala, numérico\n",
    "* PetalLengthCm\t: comprimento da pétala, numérico\n",
    "* PetalWidthCm: largura da pétala, numérico\n",
    "* Species: Especies, Categórico\n",
    "    * iris-Setosa\n",
    "    * iris-Versicolor\n",
    "    * iris-Virginica\n",
    "\n"
   ]
  },
  {
   "cell_type": "code",
   "execution_count": 10,
   "metadata": {},
   "outputs": [
    {
     "name": "stdout",
     "output_type": "stream",
     "text": [
      "Existem 150 linhas e 6 colunas\n"
     ]
    }
   ],
   "source": [
    "#tamanho do dataset\n",
    "n_linhas, n_colunas = data.shape\n",
    "print(f'Existem {n_linhas} linhas e {n_colunas} colunas')"
   ]
  },
  {
   "cell_type": "code",
   "execution_count": 11,
   "metadata": {},
   "outputs": [
    {
     "data": {
      "image/png": "[encoded data removed]",
      "text/plain": [
       "<Figure size 432x288 with 1 Axes>"
      ]
     },
     "metadata": {
      "needs_background": "light"
     },
     "output_type": "display_data"
    }
   ],
   "source": [
    "#plotando ocorencias de cada classe\n",
    "plt.title('Ocorrenca das classes')\n",
    "sns.countplot(data['Species'])\n",
    "plt.savefig('assets/imgs/knn-ocorrencia-iris.png')\n",
    "plt.show()"
   ]
  },
  {
   "cell_type": "markdown",
   "metadata": {},
   "source": [
    "Em uma base de dados de tamanho **150** temos **50** ocorrencias para cada uma das **3** classes"
   ]
  },
  {
   "cell_type": "code",
   "execution_count": 12,
   "metadata": {},
   "outputs": [
    {
     "data": {
      "image/png": "[encoded data removed]",
      "text/plain": [
       "<Figure size 720x720 with 2 Axes>"
      ]
     },
     "metadata": {
      "needs_background": "light"
     },
     "output_type": "display_data"
    }
   ],
   "source": [
    "#plotando graficos de dispersao\n",
    "plt.figure(figsize=(10,10))\n",
    "plt.subplot(221)\n",
    "plt.title('Dispersão Petalas')\n",
    "plot_scatter(data['PetalLengthCm'],data['PetalWidthCm'],data['Species'])\n",
    "plt.grid(True)\n",
    "plt.subplot(222)\n",
    "plt.title('Dispersão Sepalas')\n",
    "plot_scatter(data['SepalLengthCm'],data['SepalWidthCm'],data['Species'])\n",
    "plt.grid(True)\n",
    "plt.savefig('assets/imgs/knn-dispersao-iris.png')\n",
    "plt.show()"
   ]
  },
  {
   "cell_type": "markdown",
   "metadata": {},
   "source": [
    "A dispersão mostra que a largura e altura das petalas são um atributos bem distintos para cada classe, enquanto que as sepalas demonstram um tipo de atrito entre duas classes"
   ]
  },
  {
   "cell_type": "markdown",
   "metadata": {},
   "source": [
    "## Preparando os dados"
   ]
  },
  {
   "cell_type": "code",
   "execution_count": 13,
   "metadata": {},
   "outputs": [],
   "source": [
    "#Dividindo dataset em dados de entrada(x) e saida(y) \n",
    "x,y = data,data['Species']\n",
    "x = x.drop(['Id','Species'],axis=1)\n",
    "\n",
    "#Dividindo dados de entrada(x) e saida(y) em dados de treino(x_train,y_train) e teste(x_test,y_test) \n",
    "x_train,x_test,y_train,y_test = train_test_split(x,y,test_size = 0.25)"
   ]
  },
  {
   "cell_type": "markdown",
   "metadata": {},
   "source": [
    "## Treinando modelo"
   ]
  },
  {
   "cell_type": "markdown",
   "metadata": {},
   "source": [
    "O KNN, conhecido como K Vizinhos mais próximos é um algoritmo baseado em instâncias, ele armazena os exemplos de treinamento, e quando precisa fazer a predição ele consulta esses exemplos para procurar os K vizinhos mais próximos aos atributos da predição, como no exemplo ilustrativo:  \n",
    "\n",
    "Veja mais detalhes na <a href=\"https://www.datacamp.com/community/tutorials/k-nearest-neighbor-classification-scikit-learn\" margin-left='5%'>fonte do exemplo</a>\n",
    "\n",
    "* **Um novo conjunto precisa ser classificado**\n",
    "        O algoritmo coloca os novos conjuntos junto com os exemplos já treinatos.\n",
    "<img width=\"300px\" src=\"assets/imgs/knn-1.jpeg\"/>\n",
    "\n",
    "* **Calculo da distancia**\n",
    "        O algoritmo calcula a distancia entre os novos conjuntos e os treinados.\n",
    "<img width=\"300px\" src=\"assets/imgs/knn-2.jpeg\"/>\n",
    "\n",
    "* **Classificando através dos vizinhos mais próximos**\n",
    "        Dependendo da escolha de quantos serão os vizinhos mais próximos, o algoritmo classifica o novo conjunto\n",
    "<img width=\"300px\" src=\"assets/imgs/knn-3.jpeg\"/>\n",
    "\n",
    "\n",
    "\n",
    "Nesse exemplo com **K = 3**, o conjunto será classificado como sendo da **classe B**"
   ]
  },
  {
   "cell_type": "code",
   "execution_count": 14,
   "metadata": {},
   "outputs": [
    {
     "data": {
      "text/plain": [
       "KNeighborsClassifier(algorithm='auto', leaf_size=30, metric='minkowski',\n",
       "                     metric_params=None, n_jobs=None, n_neighbors=3, p=2,\n",
       "                     weights='uniform')"
      ]
     },
     "execution_count": 14,
     "metadata": {},
     "output_type": "execute_result"
    }
   ],
   "source": [
    "#criando modelo\n",
    "K = 3 #parametro de 3 vizinhos mais próximos\n",
    "modelo = KNeighborsClassifier(n_neighbors=K)\n",
    "modelo.fit(x_train,y_train)"
   ]
  },
  {
   "cell_type": "code",
   "execution_count": 15,
   "metadata": {},
   "outputs": [],
   "source": [
    "#prevendo dados de teste\n",
    "predicoes = modelo.predict(x_test)"
   ]
  },
  {
   "cell_type": "markdown",
   "metadata": {},
   "source": [
    "## Explorando resultados"
   ]
  },
  {
   "cell_type": "code",
   "execution_count": 16,
   "metadata": {},
   "outputs": [
    {
     "name": "stdout",
     "output_type": "stream",
     "text": [
      "O modelo tem 0.92 de acurácia\n"
     ]
    }
   ],
   "source": [
    "#vendo a acurácia do modelo\n",
    "acc = accuracy_score(predicoes,y_test)\n",
    "print('O modelo tem %.2f de acurácia' % acc) "
   ]
  },
  {
   "cell_type": "code",
   "execution_count": 17,
   "metadata": {},
   "outputs": [
    {
     "data": {
      "image/png": "[encoded data removed]",
      "text/plain": [
       "<Figure size 432x288 with 2 Axes>"
      ]
     },
     "metadata": {
      "needs_background": "light"
     },
     "output_type": "display_data"
    }
   ],
   "source": [
    "# Plotando matriz de confusão\n",
    "matriz = confusion_matrix(y_test,predicoes)\n",
    "plot_cmatrix(matriz)"
   ]
  },
  {
   "cell_type": "markdown",
   "metadata": {},
   "source": [
    "Na **matriz de confusão**, os valores da **diagonal** são os valores que foram previstos corretamente.\n",
    "Em relação a diagonal os valores da **horizontal** são falsos negativos,  e da **vertical** são falsos positivos"
   ]
  },
  {
   "cell_type": "markdown",
   "metadata": {},
   "source": [
    "### Teste o Algoritmo"
   ]
  },
  {
   "cell_type": "code",
   "execution_count": 56,
   "metadata": {},
   "outputs": [
    {
     "name": "stdout",
     "output_type": "stream",
     "text": [
      "Informe altura da Sepala: 0.2\n",
      "Informe Largura da Sepala: 1.2\n",
      "Informe altura da Petala: 2.2\n",
      "Informe Largura da Petala: 3.2\n",
      "\n",
      "Flor da especie Iris-setosa\n"
     ]
    }
   ],
   "source": [
    "altura_sep = float(input('Informe altura da Sepala: '))\n",
    "largura_sep = float(input('Informe Largura da Sepala: '))\n",
    "altura_pet = float(input('Informe altura da Petala: '))\n",
    "largura_pet = float(input('Informe Largura da Petala: '))\n",
    "\n",
    "entradas = [[altura_sep,largura_sep,altura_pet,largura_pet]]\n",
    "tipo = modelo.predict(entradas)[0]\n",
    "\n",
    "print('\\nFlor da especie',tipo)"
   ]
  }
 ],
 "metadata": {
  "kernelspec": {
   "display_name": "Python 3",
   "language": "python",
   "name": "python3"
  },
  "language_info": {
   "codemirror_mode": {
    "name": "ipython",
    "version": 3
   },
   "file_extension": ".py",
   "mimetype": "text/x-python",
   "name": "python",
   "nbconvert_exporter": "python",
   "pygments_lexer": "ipython3",
   "version": "3.7.3"
  }
 },
 "nbformat": 4,
 "nbformat_minor": 2
}
