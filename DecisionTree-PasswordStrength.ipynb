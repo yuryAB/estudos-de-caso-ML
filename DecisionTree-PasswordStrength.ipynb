{
 "cells": [
  {
   "cell_type": "code",
   "execution_count": 1,
   "metadata": {},
   "outputs": [
    {
     "ename": "ModuleNotFoundError",
     "evalue": "No module named 'pandas'",
     "output_type": "error",
     "traceback": [
      "\u001b[0;31m---------------------------------------------------------------------------\u001b[0m",
      "\u001b[0;31mModuleNotFoundError\u001b[0m                       Traceback (most recent call last)",
      "\u001b[0;32m<ipython-input-1-5820aba797e8>\u001b[0m in \u001b[0;36m<module>\u001b[0;34m\u001b[0m\n\u001b[0;32m----> 1\u001b[0;31m \u001b[0;32mimport\u001b[0m \u001b[0mpandas\u001b[0m \u001b[0;32mas\u001b[0m \u001b[0mpd\u001b[0m\u001b[0;34m\u001b[0m\u001b[0;34m\u001b[0m\u001b[0m\n\u001b[0m\u001b[1;32m      2\u001b[0m \u001b[0;32mimport\u001b[0m \u001b[0mnumpy\u001b[0m \u001b[0;32mas\u001b[0m \u001b[0mnp\u001b[0m\u001b[0;34m\u001b[0m\u001b[0;34m\u001b[0m\u001b[0m\n\u001b[1;32m      3\u001b[0m \u001b[0;32mimport\u001b[0m \u001b[0mmatplotlib\u001b[0m\u001b[0;34m.\u001b[0m\u001b[0mpyplot\u001b[0m \u001b[0;32mas\u001b[0m \u001b[0mplt\u001b[0m\u001b[0;34m\u001b[0m\u001b[0;34m\u001b[0m\u001b[0m\n\u001b[1;32m      4\u001b[0m \u001b[0mget_ipython\u001b[0m\u001b[0;34m(\u001b[0m\u001b[0;34m)\u001b[0m\u001b[0;34m.\u001b[0m\u001b[0mrun_line_magic\u001b[0m\u001b[0;34m(\u001b[0m\u001b[0;34m'matplotlib'\u001b[0m\u001b[0;34m,\u001b[0m \u001b[0;34m'inline'\u001b[0m\u001b[0;34m)\u001b[0m\u001b[0;34m\u001b[0m\u001b[0;34m\u001b[0m\u001b[0m\n\u001b[1;32m      5\u001b[0m \u001b[0;32mimport\u001b[0m \u001b[0mseaborn\u001b[0m \u001b[0;32mas\u001b[0m \u001b[0msns\u001b[0m\u001b[0;34m\u001b[0m\u001b[0;34m\u001b[0m\u001b[0m\n",
      "\u001b[0;31mModuleNotFoundError\u001b[0m: No module named 'pandas'"
     ]
    }
   ],
   "source": [
    "import pandas as pd\n",
    "import numpy as np\n",
    "import matplotlib.pyplot as plt\n",
    "%matplotlib inline\n",
    "import seaborn as sns\n",
    "import itertools\n",
    "import re\n",
    "from sklearn.model_selection import train_test_split\n",
    "from sklearn.metrics import accuracy_score\n",
    "from sklearn.tree import DecisionTreeClassifier,export"
   ]
  },
  {
   "cell_type": "code",
   "execution_count": 186,
   "metadata": {},
   "outputs": [
    {
     "name": "stdout",
     "output_type": "stream",
     "text": [
      "Existem 20000 linhas e 2 colunas\n"
     ]
    },
    {
     "name": "stderr",
     "output_type": "stream",
     "text": [
      "b'Skipping line 2810: expected 2 fields, saw 5\\nSkipping line 4641: expected 2 fields, saw 5\\nSkipping line 7171: expected 2 fields, saw 5\\nSkipping line 11220: expected 2 fields, saw 5\\nSkipping line 13809: expected 2 fields, saw 5\\nSkipping line 14132: expected 2 fields, saw 5\\nSkipping line 14293: expected 2 fields, saw 5\\nSkipping line 14865: expected 2 fields, saw 5\\nSkipping line 17419: expected 2 fields, saw 5\\n'\n"
     ]
    }
   ],
   "source": [
    "data = pd.read_csv('assets/dataset/pass.csv',error_bad_lines = False,nrows = 20000)\n",
    "nLinhas, nColunas = data.shape\n",
    "print(f'Existem {nLinhas} linhas e {nColunas} colunas')"
   ]
  },
  {
   "cell_type": "code",
   "execution_count": 195,
   "metadata": {},
   "outputs": [],
   "source": [
    "#Definindo função para retornar uma lista com informações da string \n",
    "#[n chars minusculos, n chars maiusculos,n chars especiais, n numeros, tamanho]\n",
    "def str_infos(string):\n",
    "    string = str(string)\n",
    "    strlen = len(string)\n",
    "    strlowcase = len(re.findall('[a-z]',string))\n",
    "    strupcase = len(re.findall('[A-Z]',string))\n",
    "    strnum = len(re.findall('[0-9]',string))\n",
    "    strspec = len(re.findall('[!¡$%&/\\()=?¿*+-_{}]',string))\n",
    "    strspec = strspec - (strnum + strupcase)\n",
    "    lst_result = [strlowcase,strupcase,strspec,strnum,strlen] \n",
    "    \n",
    "    return lst_result\n",
    "\n",
    "#Definindo função para receber uma lista de strings e retornar listas da função str_infos()\n",
    "def str_list_info(listr):\n",
    "    sl,slc,suc,sn,ss = [],[],[],[],[]\n",
    "    for i in range(len(listr)):\n",
    "        infos = str_infos(listr[i])\n",
    "        sl.append(infos[0]),slc.append(infos[1]),suc.append(infos[2]),sn.append(infos[3]),ss.append(infos[4])\n",
    "    \n",
    "    return sl,slc,suc,sn,ss\n",
    "\n",
    "#Definindo função para retornar o resultado da predição\n",
    "def pass_strength(password):\n",
    "    info = str_infos(password)\n",
    "    password_infos = [info[0],info[1],info[2],info[3],info[4]]\n",
    "    predict  = modelo.predict([password_infos]) #este método será declarado no decorrer do codigo\n",
    "    \n",
    "    if predict == 1:\n",
    "        result = 'medium' \n",
    "    elif predict == 0:\n",
    "        result = 'weak'\n",
    "    elif predict == 2:\n",
    "        result = 'strong'\n",
    "        \n",
    "    return result"
   ]
  },
  {
   "cell_type": "code",
   "execution_count": 196,
   "metadata": {},
   "outputs": [],
   "source": [
    "v1,v2,v3,v4,v5 = str_list_info(data['password'])\n",
    "data['lower_ch'],data['upper_ch'],data['special_ch'],data['num_numbers'],data['pass_length'] = v1,v2,v3,v4,v5"
   ]
  },
  {
   "cell_type": "code",
   "execution_count": 204,
   "metadata": {},
   "outputs": [
    {
     "data": {
      "text/html": [
       "<div>\n",
       "<style scoped>\n",
       "    .dataframe tbody tr th:only-of-type {\n",
       "        vertical-align: middle;\n",
       "    }\n",
       "\n",
       "    .dataframe tbody tr th {\n",
       "        vertical-align: top;\n",
       "    }\n",
       "\n",
       "    .dataframe thead th {\n",
       "        text-align: right;\n",
       "    }\n",
       "</style>\n",
       "<table border=\"1\" class=\"dataframe\">\n",
       "  <thead>\n",
       "    <tr style=\"text-align: right;\">\n",
       "      <th></th>\n",
       "      <th>password</th>\n",
       "      <th>strength</th>\n",
       "      <th>lower_ch</th>\n",
       "      <th>upper_ch</th>\n",
       "      <th>special_ch</th>\n",
       "      <th>num_numbers</th>\n",
       "      <th>pass_length</th>\n",
       "    </tr>\n",
       "  </thead>\n",
       "  <tbody>\n",
       "    <tr>\n",
       "      <th>0</th>\n",
       "      <td>kzde5577</td>\n",
       "      <td>1</td>\n",
       "      <td>4</td>\n",
       "      <td>0</td>\n",
       "      <td>0</td>\n",
       "      <td>4</td>\n",
       "      <td>8</td>\n",
       "    </tr>\n",
       "    <tr>\n",
       "      <th>1</th>\n",
       "      <td>kino3434</td>\n",
       "      <td>1</td>\n",
       "      <td>4</td>\n",
       "      <td>0</td>\n",
       "      <td>0</td>\n",
       "      <td>4</td>\n",
       "      <td>8</td>\n",
       "    </tr>\n",
       "    <tr>\n",
       "      <th>2</th>\n",
       "      <td>visi7k1yr</td>\n",
       "      <td>1</td>\n",
       "      <td>7</td>\n",
       "      <td>0</td>\n",
       "      <td>0</td>\n",
       "      <td>2</td>\n",
       "      <td>9</td>\n",
       "    </tr>\n",
       "    <tr>\n",
       "      <th>3</th>\n",
       "      <td>megzy123</td>\n",
       "      <td>1</td>\n",
       "      <td>5</td>\n",
       "      <td>0</td>\n",
       "      <td>0</td>\n",
       "      <td>3</td>\n",
       "      <td>8</td>\n",
       "    </tr>\n",
       "    <tr>\n",
       "      <th>4</th>\n",
       "      <td>lamborghin1</td>\n",
       "      <td>1</td>\n",
       "      <td>10</td>\n",
       "      <td>0</td>\n",
       "      <td>0</td>\n",
       "      <td>1</td>\n",
       "      <td>11</td>\n",
       "    </tr>\n",
       "  </tbody>\n",
       "</table>\n",
       "</div>"
      ],
      "text/plain": [
       "      password  strength  lower_ch  upper_ch  special_ch  num_numbers  \\\n",
       "0     kzde5577         1         4         0           0            4   \n",
       "1     kino3434         1         4         0           0            4   \n",
       "2    visi7k1yr         1         7         0           0            2   \n",
       "3     megzy123         1         5         0           0            3   \n",
       "4  lamborghin1         1        10         0           0            1   \n",
       "\n",
       "   pass_length  \n",
       "0            8  \n",
       "1            8  \n",
       "2            9  \n",
       "3            8  \n",
       "4           11  "
      ]
     },
     "execution_count": 204,
     "metadata": {},
     "output_type": "execute_result"
    }
   ],
   "source": [
    "data.head()"
   ]
  },
  {
   "cell_type": "code",
   "execution_count": 197,
   "metadata": {},
   "outputs": [],
   "source": [
    "#Dividindo dataset em dados de entrada(x) e saida(y) \n",
    "x,y = data,data['strength']\n",
    "x = x.drop(['password','strength'],axis=1)\n",
    "\n",
    "#Dividindo dados de entrada(x) e saida(y) em dados de treino(x_train,y_train) e teste(x_test,y_test) \n",
    "x_train,x_test,y_train,y_test = train_test_split(x,y,test_size = 0.25)"
   ]
  },
  {
   "cell_type": "code",
   "execution_count": 198,
   "metadata": {},
   "outputs": [
    {
     "data": {
      "text/plain": [
       "DecisionTreeClassifier(class_weight=None, criterion='entropy', max_depth=None,\n",
       "                       max_features=None, max_leaf_nodes=None,\n",
       "                       min_impurity_decrease=0.0, min_impurity_split=None,\n",
       "                       min_samples_leaf=1, min_samples_split=2,\n",
       "                       min_weight_fraction_leaf=0.0, presort=False,\n",
       "                       random_state=None, splitter='best')"
      ]
     },
     "execution_count": 198,
     "metadata": {},
     "output_type": "execute_result"
    }
   ],
   "source": [
    "modelo = DecisionTreeClassifier(criterion='entropy')\n",
    "modelo.fit(x_train,y_train)"
   ]
  },
  {
   "cell_type": "code",
   "execution_count": 199,
   "metadata": {},
   "outputs": [
    {
     "name": "stdout",
     "output_type": "stream",
     "text": [
      "[0. 0. 0. 0. 1.]\n"
     ]
    }
   ],
   "source": [
    "print(modelo.feature_importances_)"
   ]
  },
  {
   "cell_type": "code",
   "execution_count": 200,
   "metadata": {},
   "outputs": [
    {
     "data": {
      "image/png": "[encoded data removed]",
      "text/plain": [
       "<Figure size 432x288 with 1 Axes>"
      ]
     },
     "metadata": {
      "needs_background": "light"
     },
     "output_type": "display_data"
    }
   ],
   "source": [
    "tree = export.plot_tree(modelo,\n",
    "                feature_names=['minusculas','maiusculas','especiais','numeros','tamanho'],\n",
    "                class_names=['media','forte','fraca'],\n",
    "                max_depth=10,)"
   ]
  },
  {
   "cell_type": "code",
   "execution_count": 201,
   "metadata": {},
   "outputs": [
    {
     "data": {
      "text/html": [
       "<div>\n",
       "<style scoped>\n",
       "    .dataframe tbody tr th:only-of-type {\n",
       "        vertical-align: middle;\n",
       "    }\n",
       "\n",
       "    .dataframe tbody tr th {\n",
       "        vertical-align: top;\n",
       "    }\n",
       "\n",
       "    .dataframe thead th {\n",
       "        text-align: right;\n",
       "    }\n",
       "</style>\n",
       "<table border=\"1\" class=\"dataframe\">\n",
       "  <thead>\n",
       "    <tr style=\"text-align: right;\">\n",
       "      <th></th>\n",
       "      <th>strength</th>\n",
       "      <th>lower_ch</th>\n",
       "      <th>upper_ch</th>\n",
       "      <th>special_ch</th>\n",
       "      <th>num_numbers</th>\n",
       "      <th>pass_length</th>\n",
       "    </tr>\n",
       "  </thead>\n",
       "  <tbody>\n",
       "    <tr>\n",
       "      <th>strength</th>\n",
       "      <td>1.000000</td>\n",
       "      <td>0.229103</td>\n",
       "      <td>0.623371</td>\n",
       "      <td>0.152086</td>\n",
       "      <td>0.175522</td>\n",
       "      <td>0.842784</td>\n",
       "    </tr>\n",
       "    <tr>\n",
       "      <th>lower_ch</th>\n",
       "      <td>0.229103</td>\n",
       "      <td>1.000000</td>\n",
       "      <td>-0.104633</td>\n",
       "      <td>0.100678</td>\n",
       "      <td>-0.569037</td>\n",
       "      <td>0.362983</td>\n",
       "    </tr>\n",
       "    <tr>\n",
       "      <th>upper_ch</th>\n",
       "      <td>0.623371</td>\n",
       "      <td>-0.104633</td>\n",
       "      <td>1.000000</td>\n",
       "      <td>0.010737</td>\n",
       "      <td>-0.079853</td>\n",
       "      <td>0.674160</td>\n",
       "    </tr>\n",
       "    <tr>\n",
       "      <th>special_ch</th>\n",
       "      <td>0.152086</td>\n",
       "      <td>0.100678</td>\n",
       "      <td>0.010737</td>\n",
       "      <td>1.000000</td>\n",
       "      <td>0.034624</td>\n",
       "      <td>0.238709</td>\n",
       "    </tr>\n",
       "    <tr>\n",
       "      <th>num_numbers</th>\n",
       "      <td>0.175522</td>\n",
       "      <td>-0.569037</td>\n",
       "      <td>-0.079853</td>\n",
       "      <td>0.034624</td>\n",
       "      <td>1.000000</td>\n",
       "      <td>0.165217</td>\n",
       "    </tr>\n",
       "    <tr>\n",
       "      <th>pass_length</th>\n",
       "      <td>0.842784</td>\n",
       "      <td>0.362983</td>\n",
       "      <td>0.674160</td>\n",
       "      <td>0.238709</td>\n",
       "      <td>0.165217</td>\n",
       "      <td>1.000000</td>\n",
       "    </tr>\n",
       "  </tbody>\n",
       "</table>\n",
       "</div>"
      ],
      "text/plain": [
       "             strength  lower_ch  upper_ch  special_ch  num_numbers  \\\n",
       "strength     1.000000  0.229103  0.623371    0.152086     0.175522   \n",
       "lower_ch     0.229103  1.000000 -0.104633    0.100678    -0.569037   \n",
       "upper_ch     0.623371 -0.104633  1.000000    0.010737    -0.079853   \n",
       "special_ch   0.152086  0.100678  0.010737    1.000000     0.034624   \n",
       "num_numbers  0.175522 -0.569037 -0.079853    0.034624     1.000000   \n",
       "pass_length  0.842784  0.362983  0.674160    0.238709     0.165217   \n",
       "\n",
       "             pass_length  \n",
       "strength        0.842784  \n",
       "lower_ch        0.362983  \n",
       "upper_ch        0.674160  \n",
       "special_ch      0.238709  \n",
       "num_numbers     0.165217  \n",
       "pass_length     1.000000  "
      ]
     },
     "execution_count": 201,
     "metadata": {},
     "output_type": "execute_result"
    }
   ],
   "source": [
    "data.corr()"
   ]
  },
  {
   "cell_type": "code",
   "execution_count": 202,
   "metadata": {},
   "outputs": [
    {
     "data": {
      "text/plain": [
       "1.0"
      ]
     },
     "execution_count": 202,
     "metadata": {},
     "output_type": "execute_result"
    }
   ],
   "source": [
    "predicao = modelo.predict(x_test)\n",
    "accuracy_score(predicao,y_test)"
   ]
  },
  {
   "cell_type": "code",
   "execution_count": 203,
   "metadata": {},
   "outputs": [
    {
     "name": "stdout",
     "output_type": "stream",
     "text": [
      "Digite uma senha: 11@@jupyySS\n",
      "pass strength: medium\n"
     ]
    }
   ],
   "source": [
    "password = input('Digite uma senha: ')\n",
    "result = pass_strength(password)\n",
    "print('pass strength:', result)"
   ]
  },
  {
   "cell_type": "code",
   "execution_count": null,
   "metadata": {},
   "outputs": [],
   "source": []
  }
 ],
 "metadata": {
  "kernelspec": {
   "display_name": "Python 3",
   "language": "python",
   "name": "python3"
  },
  "language_info": {
   "codemirror_mode": {
    "name": "ipython",
    "version": 3
   },
   "file_extension": ".py",
   "mimetype": "text/x-python",
   "name": "python",
   "nbconvert_exporter": "python",
   "pygments_lexer": "ipython3",
   "version": "3.7.3"
  }
 },
 "nbformat": 4,
 "nbformat_minor": 2
}
